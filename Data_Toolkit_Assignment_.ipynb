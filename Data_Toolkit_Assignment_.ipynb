{
  "nbformat": 4,
  "nbformat_minor": 0,
  "metadata": {
    "colab": {
      "provenance": []
    },
    "kernelspec": {
      "name": "python3",
      "display_name": "Python 3"
    },
    "language_info": {
      "name": "python"
    }
  },
  "cells": [
    {
      "cell_type": "markdown",
      "source": [
        "#       **Data Toolkit Assignment**"
      ],
      "metadata": {
        "id": "OAh8bIe2GtjH"
      }
    },
    {
      "cell_type": "markdown",
      "source": [
        "\n",
        "\n",
        "---\n",
        "#Theory qestions\n",
        "\n",
        "# **1. What is NumPy, and why is it widely used in Python ?**\n",
        "\n",
        "\n",
        "\n",
        "NumPy (Numerical Python) is a library for fast numerical computations.\n",
        "\n",
        "\n",
        "\n",
        "\n",
        "\n",
        "  Provides powerful N-dimensional arrays (ndarray).\n",
        "\n",
        "  Faster than Python lists due to C-level implementation.\n",
        "\n",
        "  Supports vectorized operations, linear algebra, Fourier transforms, random numbers.\n",
        "\n",
        "  Widely used as the foundation for data science, ML, and scientific computing.\n",
        "\n",
        "\n",
        "\n",
        "\n",
        "\n",
        "\n"
      ],
      "metadata": {
        "id": "9BykJFKvHOQ3"
      }
    },
    {
      "cell_type": "markdown",
      "source": [
        "# **2. How does broadcasting work in NumPy ?**\n",
        "Broadcasting allows NumPy to perform arithmetic operations on arrays of different shapes by\n",
        "\n",
        "\n",
        "```\n",
        "a = np.array([1,2,3])\n",
        "b = 2\n",
        "print(a + b)\n",
        "\n",
        "ans : [3,4,5]\n",
        "```\n",
        "\n"
      ],
      "metadata": {
        "id": "g8lxUNwAJZxJ"
      }
    },
    {
      "cell_type": "markdown",
      "source": [
        "# **3. What is a Pandas DataFrame ?**\n",
        "A Pandas DataFrame is a two-dimensional, tabular data structure in Python that can hold data in rows and columns, similar to an Excel sheet or SQL table. It allows easy data manipulation, analysis, and cleaning using built-in methods."
      ],
      "metadata": {
        "id": "cz61Sh_pKB0E"
      }
    },
    {
      "cell_type": "markdown",
      "source": [
        "# **4. Explain the use of the groupby() method in Pandas?**\n",
        "\n",
        "groupby() is used to split data into groups (like by category), apply functions (like sum, mean), and combine the results."
      ],
      "metadata": {
        "id": "WfqV-AC2KsJa"
      }
    },
    {
      "cell_type": "markdown",
      "source": [
        "# **5. Why is Seaborn preferred for statistical visualizations ?**\n",
        "Seaborn makes attractive charts easily and has built-in support for statistical plots like heatmaps, pair plots, and distributions."
      ],
      "metadata": {
        "id": "RChlaaRsQVWn"
      }
    },
    {
      "cell_type": "markdown",
      "source": [
        "# **6. A What are the differences between NumPy arrays and Python lists  ?**\n",
        "NumPy arrays are faster and use less memory.\n",
        "\n",
        "Lists are more flexible but slower for calculations.\n",
        "\n",
        "Arrays support vectorized operations; lists don’t."
      ],
      "metadata": {
        "id": "98ROSLMWQlte"
      }
    },
    {
      "cell_type": "markdown",
      "source": [
        "# **7. A What is a heatmap, and when should it be used ?**\n",
        "A heatmap shows data in colors, usually for correlation or frequency. It’s good for spotting patterns quickly."
      ],
      "metadata": {
        "id": "rHr4zWyXRqMX"
      }
    },
    {
      "cell_type": "markdown",
      "source": [
        "# **8. What does the term “vectorized operation” mean in NumPy ?**\n",
        "It means doing operations on entire arrays at once instead of looping through elements, making it much faster.\n",
        "\n",
        "\n",
        "```\n",
        "# This is formatted as code\n",
        "x = np.array([1,2,3,4])\n",
        "arr = x + 5\n",
        "print(arr)\n",
        "\n",
        "ans: [6,7,8,9]\n",
        "```\n",
        "\n"
      ],
      "metadata": {
        "id": "pMfcJ-gaR4RS"
      }
    },
    {
      "cell_type": "markdown",
      "source": [
        "# **9. How does Matplotlib differ from Plotly ?**\n",
        "Matplotlib: static, basic visualizations.\n",
        "\n",
        "Plotly: interactive, modern, and web-friendly charts."
      ],
      "metadata": {
        "id": "hYodrl3dj-4B"
      }
    },
    {
      "cell_type": "markdown",
      "source": [
        "# **10. What is the significance of hierarchical indexing in Pandas ?**\n",
        "Hierarchical indexing (also called MultiIndex) in Pandas means having multiple levels of row or column labels.\n",
        "It’s useful when you want to represent data with more than one key, like City + Year, or Region + Product.\n",
        "\n",
        "\n",
        "\n",
        "```\n",
        "Original DataFrame:\n",
        "     City  Year  Sales\n",
        "0   Delhi  2020    250\n",
        "1   Delhi  2021    300\n",
        "2  Mumbai  2020    400\n",
        "3  Mumbai  2021    450\n",
        "\n",
        "DataFrame with Hierarchical Indexing:\n",
        "             Sales\n",
        "City   Year       \n",
        "Delhi  2020    250\n",
        "       2021    300\n",
        "Mumbai 2020    400\n",
        "       2021    450\n",
        "```\n",
        "\n"
      ],
      "metadata": {
        "id": "hFa2ruc5kGeI"
      }
    },
    {
      "cell_type": "markdown",
      "source": [
        "# **11. What is the role of Seaborn’s pairplot() functio? **\n",
        "It shows relationships between multiple variables using scatterplots and histograms in one grid."
      ],
      "metadata": {
        "id": "hdbFL_UzlXL2"
      }
    },
    {
      "cell_type": "markdown",
      "source": [
        "# **12. What is the purpose of the describe() function in Pandas ?**\n",
        "It gives a quick summary (mean, min, max, count, std, etc.) of numerical data in a DataFrame."
      ],
      "metadata": {
        "id": "CH-1gYbxmn2t"
      }
    },
    {
      "cell_type": "markdown",
      "source": [
        "# **13. Why is handling missing data important in Pandas ?**\n",
        "Missing data can give wrong results in analysis, so handling it (filling, removing, or replacing) is necessary."
      ],
      "metadata": {
        "id": "WMdppqEbm7fY"
      }
    },
    {
      "cell_type": "markdown",
      "source": [
        "# **14. What are the benefits of using Plotly for data visualization ?**\n",
        "Interactive graphs\n",
        "\n",
        "Easy zoom, hover, and tooltips\n",
        "\n",
        "Good for dashboards and presentations"
      ],
      "metadata": {
        "id": "cwKg2HuBnUGU"
      }
    },
    {
      "cell_type": "markdown",
      "source": [
        "# **15. How does NumPy handle multidimensional arrays?**\n",
        "NumPy uses ndarray, which can store 1D, 2D (matrix), or n-dimensional data. It supports operations across these dimensions."
      ],
      "metadata": {
        "id": "4UjcdWBCny8B"
      }
    },
    {
      "cell_type": "markdown",
      "source": [
        "# **16. What is the role of Bokeh in data visualization?**\n",
        "Bokeh is a powerful Python library used to create interactive and web-based visualizations.\n",
        "Unlike static libraries like Matplotlib, Bokeh can make charts where you can zoom, pan, hover, select, and update in real time."
      ],
      "metadata": {
        "id": "4HdhRAubn-iN"
      }
    },
    {
      "cell_type": "markdown",
      "source": [
        "# **17. Explain the difference between apply() and map() in Pandas ?.**\n",
        "map(): works on a single column (Series).\n",
        "\n",
        "apply(): works on rows or columns of a DataFrame."
      ],
      "metadata": {
        "id": "Dua5KzaRoQby"
      }
    },
    {
      "cell_type": "markdown",
      "source": [
        "# **18. What are some advanced features of NumPy?**\n",
        "Linear algebra functions\n",
        "\n",
        "Random number generation\n",
        "\n",
        "Fourier transforms\n",
        "\n",
        "Broadcasting\n",
        "\n",
        "Masking and filtering"
      ],
      "metadata": {
        "id": "cwjvNEyoocx5"
      }
    },
    {
      "cell_type": "markdown",
      "source": [
        "# **19. How does Pandas simplify time series analysis?**\n",
        "Pandas can easily handle dates, resampling, rolling averages, and shifting, making time-based data analysis simple."
      ],
      "metadata": {
        "id": "GfsN1QtFojuI"
      }
    },
    {
      "cell_type": "markdown",
      "source": [
        "# **20. What is the role of a pivot table in Pandas?**\n",
        "They let you summarize and analyze data by grouping rows/columns and applying functions like sum, mean, count, etc."
      ],
      "metadata": {
        "id": "2eno3wkHo0se"
      }
    },
    {
      "cell_type": "markdown",
      "source": [
        "# **21. Why is NumPy’s array slicing faster than Python’s list slicing?**\n",
        "NumPy arrays are stored in continuous memory blocks and written in C, making slicing faster than Python’s list slicing."
      ],
      "metadata": {
        "id": "dfJ_VHw0pIYQ"
      }
    },
    {
      "cell_type": "markdown",
      "source": [
        "# **22. What are some common use cases for Seaborn?**\n",
        "Visualizing distributions (histogram, KDE)\n",
        "\n",
        "Correlation heatmaps\n",
        "\n",
        "Pairwise relationships\n",
        "\n",
        "Boxplots & violin plots for comparisons"
      ],
      "metadata": {
        "id": "fporK137uv1t"
      }
    }
  ]
}